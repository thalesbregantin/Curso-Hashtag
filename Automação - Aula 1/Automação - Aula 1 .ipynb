{
 "cells": [
  {
   "cell_type": "markdown",
   "metadata": {},
   "source": [
    "# Automação de Sistemas e Processos com Python\n",
    "\n",
    "### Desafio:\n",
    "\n",
    "\n",
    "Todos os dias, o nosso sistema atualiza as vendas do dia anterior.\n",
    "O seu trabalho diário, como analista, é enviar um e-mail para a diretoria, assim que começar a trabalhar, com o faturamento e a quantidade de produtos vendidos no dia anterior\n",
    "\n",
    "\n",
    "E-mail da diretoria: seugmail+diretoria@gmail.com<br>\n",
    "Local onde o sistema disponibiliza as vendas do dia anterior: https://drive.google.com/drive/folders/149xknr9JvrlEnhNWO49zPcw0PW5icxga?usp=sharing\n",
    "\n",
    "Para resolver isso, vamos usar o pyautogui, uma biblioteca de automação de comandos do mouse e do teclado"
   ]
  },
  {
   "cell_type": "code",
   "execution_count": 24,
   "metadata": {},
   "outputs": [],
   "source": [
    "import pyautogui\n",
    "import pandas as pd\n",
    "import time"
   ]
  },
  {
   "cell_type": "code",
   "execution_count": 29,
   "metadata": {},
   "outputs": [],
   "source": [
    "class Auto:\n",
    "        \n",
    "    def open_system(self):\n",
    "        self.link = 'https://drive.google.com/drive/folders/149xknr9JvrlEnhNWO49zPcw0PW5icxga'\n",
    "        time.sleep(5)\n",
    "        self.nova_aba = pyautogui.hotkey('ctrl','t')\n",
    "        pyautogui.write(self.link)\n",
    "        pyautogui.press('enter')\n",
    "        \n",
    "    # Vamos agora download do arquivo    \n",
    "    def down_bd(self):\n",
    "        time.sleep(10)\n",
    "        pyautogui.click(x=346, y=294, clicks=2)\n",
    "        time.sleep(3)\n",
    "        pyautogui.click(x=371, y=333)\n",
    "        time.sleep(3)\n",
    "        pyautogui.click(x=1713, y=159)\n",
    "        time.sleep(3)\n",
    "        pyautogui.click(x=1485, y=594)\n",
    "        time.sleep(3)\n",
    "        pyautogui.press('enter')\n",
    "        time.sleep(3)\n",
    "        \n",
    "    # Vamos agora ler o arquivo baixado para pegar os indicadores\n",
    "    def show_df(self):\n",
    "        #pd.set_option('display.max_rows', df.shape[0]+1)\n",
    "        #pd.set_option('display.max_columns', df.shape[1]+1)\n",
    "        self.df = pd.read_excel(r\"C:\\Users\\thales.santos\\Downloads\\Vendas - Dez.xlsx\")\n",
    "        #display(df)\n",
    "        \n",
    "        \n",
    "        \n",
    "    def kpi(self):\n",
    "        self.faturamento = self.df[\"Valor Final\"].sum()\n",
    "        self.quantidade =  self.df[\"Quantidade\"].sum()\n",
    "        #print(self.faturamento)\n",
    "        #print(self.quantidade)\n",
    "        time.sleep(5)\n",
    "        \n",
    "\n",
    "    def seed_email(self):\n",
    "        time.sleep(5)\n",
    "        pyautogui.hotkey('ctrl','t')\n",
    "        time.sleep(5)\n",
    "        self.link = 'https://mail.google.com/mail/u/0/#inbox'\n",
    "        self.work_email = 'thalesbregantin@gmail.com'\n",
    "        pyautogui.write(self.link)\n",
    "        pyautogui.press('enter')\n",
    "        time.sleep(5)\n",
    "        pyautogui.click(x=73, y=169)\n",
    "        time.sleep(2)\n",
    "        pyautogui.write(self.work_email)\n",
    "        pyautogui.press('tab')\n",
    "        pyautogui.press('tab')\n",
    "        pyautogui.write('Report de Vendas')\n",
    "        pyautogui.press('tab')\n",
    "        self.texto_corpo = f\"\"\"\n",
    "        \n",
    "        Boa tarde a todos,\n",
    "        \n",
    "        Segue o faturamento e as quantidades vendidas.\n",
    "        \n",
    "        Faturamento: R${self.faturamento:,.2f}\n",
    "        Qtd. vendidada: {self.quantidade:,}\n",
    "        \n",
    "        \n",
    "        atenciosamente,\n",
    "        Thales Bregantin\n",
    "\n",
    "        \"\"\"\n",
    "        pyautogui.write(self.texto_corpo)\n",
    "        time.sleep(2)\n",
    "        pyautogui.click(x=1309, y=944)\n",
    "        \n",
    "        "
   ]
  },
  {
   "cell_type": "code",
   "execution_count": 30,
   "metadata": {},
   "outputs": [],
   "source": [
    "auto = Auto()\n",
    "auto.open_system()\n",
    "auto.down_bd()\n",
    "auto.show_df()\n",
    "auto.kpi()\n",
    "auto.seed_email()"
   ]
  },
  {
   "cell_type": "code",
   "execution_count": 80,
   "metadata": {},
   "outputs": [
    {
     "data": {
      "text/plain": [
       "Point(x=1309, y=944)"
      ]
     },
     "execution_count": 80,
     "metadata": {},
     "output_type": "execute_result"
    }
   ],
   "source": [
    "time.sleep(5)\n",
    "pyautogui.position()"
   ]
  },
  {
   "cell_type": "markdown",
   "metadata": {},
   "source": [
    "### Vamos agora ler o arquivo baixado para pegar os indicadores\n",
    "\n",
    "- Faturamento\n",
    "- Quantidade de Produtos"
   ]
  },
  {
   "cell_type": "code",
   "execution_count": null,
   "metadata": {
    "scrolled": true
   },
   "outputs": [],
   "source": [
    "\n"
   ]
  },
  {
   "cell_type": "markdown",
   "metadata": {},
   "source": [
    "### Vamos agora enviar um e-mail pelo gmail"
   ]
  },
  {
   "cell_type": "code",
   "execution_count": null,
   "metadata": {},
   "outputs": [],
   "source": [
    "\n",
    "        "
   ]
  },
  {
   "cell_type": "markdown",
   "metadata": {},
   "source": [
    "#### Use esse código para descobrir qual a posição de um item que queira clicar\n",
    "\n",
    "- Lembre-se: a posição na sua tela é diferente da posição na minha tela"
   ]
  },
  {
   "cell_type": "code",
   "execution_count": null,
   "metadata": {
    "scrolled": true
   },
   "outputs": [],
   "source": []
  }
 ],
 "metadata": {
  "kernelspec": {
   "display_name": "Python 3 (ipykernel)",
   "language": "python",
   "name": "python3"
  },
  "language_info": {
   "codemirror_mode": {
    "name": "ipython",
    "version": 3
   },
   "file_extension": ".py",
   "mimetype": "text/x-python",
   "name": "python",
   "nbconvert_exporter": "python",
   "pygments_lexer": "ipython3",
   "version": "3.9.12"
  }
 },
 "nbformat": 4,
 "nbformat_minor": 4
}
